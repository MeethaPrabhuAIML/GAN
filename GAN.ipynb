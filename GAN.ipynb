{
  "cells": [
    {
      "cell_type": "code",
      "execution_count": 1,
      "metadata": {
        "id": "2LXDpLI3-Q6J"
      },
      "outputs": [],
      "source": [
        "#Imports and Dependencies\n",
        "\n",
        "import tensorflow as tf\n",
        "from tensorflow.keras import layers\n",
        "import numpy as np\n",
        "import matplotlib.pyplot as plt\n"
      ]
    },
    {
      "cell_type": "code",
      "execution_count": 2,
      "metadata": {
        "id": "l0-6UWN1GfcR"
      },
      "outputs": [],
      "source": [
        "# Build the Generator\n",
        "def build_generator():\n",
        "    model = tf.keras.Sequential([\n",
        "        layers.Dense(128, activation=\"relu\", input_shape=(100,)),\n",
        "        layers.Dense(784, activation=\"tanh\"),\n",
        "        layers.Reshape((28, 28))\n",
        "    ])\n",
        "    return model\n",
        "#Build the Generator\n",
        "# Build the Discriminator\n",
        "def build_discriminator():\n",
        "    model = tf.keras.Sequential([\n",
        "        layers.Flatten(input_shape=(28, 28)),\n",
        "        layers.Dense(128, activation=\"relu\"),\n",
        "        layers.Dense(1, activation=\"sigmoid\")\n",
        "    ])\n",
        "    return model\n"
      ]
    },
    {
      "cell_type": "code",
      "execution_count": 5,
      "metadata": {
        "id": "ut2OkZH7GhYY",
        "colab": {
          "base_uri": "https://localhost:8080/"
        },
        "outputId": "13c560b7-e8c8-4d88-c509-6c83c5bb555f"
      },
      "outputs": [
        {
          "output_type": "stream",
          "name": "stdout",
          "text": [
            "Downloading data from https://storage.googleapis.com/tensorflow/tf-keras-datasets/mnist.npz\n",
            "\u001b[1m11490434/11490434\u001b[0m \u001b[32m━━━━━━━━━━━━━━━━━━━━\u001b[0m\u001b[37m\u001b[0m \u001b[1m0s\u001b[0m 0us/step\n"
          ]
        }
      ],
      "source": [
        "# Load and Normalize Dataset (MNIST)\n",
        "(x_train, _), _ = tf.keras.datasets.mnist.load_data()\n",
        "x_train = x_train.astype(\"float32\") / 127.5 - 1\n",
        "x_train = np.expand_dims(x_train, axis=-1)\n",
        "\n",
        "# (x_train, _), _ = tf.keras.datasets.mnist.load_data()\n",
        "# x_train = x_train.astype(\"float32\") / 127.5 - 1\n",
        "# x_train = np.expand_dims(x_train, axis=-1)\n"
      ]
    },
    {
      "cell_type": "code",
      "execution_count": 6,
      "metadata": {
        "id": "RNtPSgjJHW2x"
      },
      "outputs": [],
      "source": [
        "# Dataset Pipeline\n",
        "\n",
        "BUFFER_SIZE = 60000\n",
        "BATCH_SIZE = 256\n",
        "train_dataset = tf.data.Dataset.from_tensor_slices(x_train).shuffle(BUFFER_SIZE).batch(BATCH_SIZE)"
      ]
    },
    {
      "cell_type": "code",
      "execution_count": 7,
      "metadata": {
        "colab": {
          "base_uri": "https://localhost:8080/"
        },
        "id": "RUOPTaPXHhvL",
        "outputId": "de36b5e4-5171-4455-822e-da8c8fbf8fbc"
      },
      "outputs": [
        {
          "output_type": "stream",
          "name": "stderr",
          "text": [
            "/usr/local/lib/python3.11/dist-packages/keras/src/layers/core/dense.py:93: UserWarning: Do not pass an `input_shape`/`input_dim` argument to a layer. When using Sequential models, prefer using an `Input(shape)` object as the first layer in the model instead.\n",
            "  super().__init__(activity_regularizer=activity_regularizer, **kwargs)\n",
            "/usr/local/lib/python3.11/dist-packages/keras/src/layers/reshaping/flatten.py:37: UserWarning: Do not pass an `input_shape`/`input_dim` argument to a layer. When using Sequential models, prefer using an `Input(shape)` object as the first layer in the model instead.\n",
            "  super().__init__(**kwargs)\n"
          ]
        }
      ],
      "source": [
        "# Initialize Models and Optimizers\n",
        "\n",
        "generator = build_generator()\n",
        "discriminator = build_discriminator()\n",
        "\n",
        "cross_entropy = tf.keras.losses.BinaryCrossentropy()\n",
        "gen_optimizer = tf.keras.optimizers.Adam(1e-4)\n",
        "disc_optimizer = tf.keras.optimizers.Adam(1e-4)"
      ]
    },
    {
      "cell_type": "code",
      "execution_count": 8,
      "metadata": {
        "id": "Qx4gcUaUHmQd"
      },
      "outputs": [],
      "source": [
        "#Training Step (Single Batch)\n",
        "\n",
        "@tf.function\n",
        "def train_step(images):\n",
        "    noise = tf.random.normal([BATCH_SIZE, 100])\n",
        "    #Forward & Backward Pass\n",
        "\n",
        "    with tf.GradientTape() as disc_tape, tf.GradientTape() as gen_tape:\n",
        "        generated_images = generator(noise, training=True)\n",
        "\n",
        "        real_output = discriminator(images, training=True)\n",
        "        fake_output = discriminator(generated_images, training=True)\n",
        "        #Compute Losses\n",
        "        gen_loss = cross_entropy(tf.ones_like(fake_output), fake_output)\n",
        "        disc_loss = cross_entropy(tf.ones_like(real_output), real_output) + cross_entropy(tf.zeros_like(fake_output), fake_output)\n",
        "        # Backpropagation\n",
        "        gradients_gen = gen_tape.gradient(gen_loss, generator.trainable_variables)\n",
        "        gradients_disc = disc_tape.gradient(disc_loss, discriminator.trainable_variables)\n",
        "\n",
        "        gen_optimizer.apply_gradients(zip(gradients_gen, generator.trainable_variables))\n",
        "        disc_optimizer.apply_gradients(zip(gradients_disc, discriminator.trainable_variables))\n",
        "\n",
        "        return gen_loss, disc_loss"
      ]
    },
    {
      "cell_type": "code",
      "execution_count": 9,
      "metadata": {
        "colab": {
          "base_uri": "https://localhost:8080/"
        },
        "id": "fn3EeB9QH7xK",
        "outputId": "a78c8026-682b-436c-f1de-4baba2bc73ed"
      },
      "outputs": [
        {
          "output_type": "stream",
          "name": "stdout",
          "text": [
            "Epoch 1/50 | Gen Loss: 0.7460 | Disc Loss: 0.6806\n",
            "Epoch 2/50 | Gen Loss: 1.1456 | Disc Loss: 0.4626\n",
            "Epoch 3/50 | Gen Loss: 1.4344 | Disc Loss: 0.3690\n",
            "Epoch 4/50 | Gen Loss: 1.2707 | Disc Loss: 0.4835\n",
            "Epoch 5/50 | Gen Loss: 1.0902 | Disc Loss: 0.6629\n",
            "Epoch 6/50 | Gen Loss: 1.0503 | Disc Loss: 0.6598\n",
            "Epoch 7/50 | Gen Loss: 1.0425 | Disc Loss: 0.6753\n",
            "Epoch 8/50 | Gen Loss: 1.0255 | Disc Loss: 0.7797\n",
            "Epoch 9/50 | Gen Loss: 1.0387 | Disc Loss: 0.7210\n",
            "Epoch 10/50 | Gen Loss: 0.8709 | Disc Loss: 0.9729\n",
            "Epoch 11/50 | Gen Loss: 1.1478 | Disc Loss: 0.7000\n",
            "Epoch 12/50 | Gen Loss: 1.0857 | Disc Loss: 0.7291\n",
            "Epoch 13/50 | Gen Loss: 1.3577 | Disc Loss: 0.5411\n",
            "Epoch 14/50 | Gen Loss: 1.0012 | Disc Loss: 0.9557\n",
            "Epoch 15/50 | Gen Loss: 0.9091 | Disc Loss: 0.9906\n",
            "Epoch 16/50 | Gen Loss: 0.9356 | Disc Loss: 1.0075\n",
            "Epoch 17/50 | Gen Loss: 0.8839 | Disc Loss: 0.9884\n",
            "Epoch 18/50 | Gen Loss: 1.1381 | Disc Loss: 0.7709\n",
            "Epoch 19/50 | Gen Loss: 1.3258 | Disc Loss: 0.6409\n",
            "Epoch 20/50 | Gen Loss: 1.3512 | Disc Loss: 0.6067\n",
            "Epoch 21/50 | Gen Loss: 1.4306 | Disc Loss: 0.5326\n",
            "Epoch 22/50 | Gen Loss: 1.3210 | Disc Loss: 0.5717\n",
            "Epoch 23/50 | Gen Loss: 1.1757 | Disc Loss: 0.7296\n",
            "Epoch 24/50 | Gen Loss: 1.1714 | Disc Loss: 0.8699\n",
            "Epoch 25/50 | Gen Loss: 1.2518 | Disc Loss: 0.7776\n",
            "Epoch 26/50 | Gen Loss: 1.0204 | Disc Loss: 0.8862\n",
            "Epoch 27/50 | Gen Loss: 1.1238 | Disc Loss: 0.8632\n",
            "Epoch 28/50 | Gen Loss: 1.3597 | Disc Loss: 0.7032\n",
            "Epoch 29/50 | Gen Loss: 1.5258 | Disc Loss: 0.5317\n",
            "Epoch 30/50 | Gen Loss: 1.7629 | Disc Loss: 0.4197\n",
            "Epoch 31/50 | Gen Loss: 1.8142 | Disc Loss: 0.4281\n",
            "Epoch 32/50 | Gen Loss: 1.7783 | Disc Loss: 0.3826\n",
            "Epoch 33/50 | Gen Loss: 1.5098 | Disc Loss: 0.5818\n",
            "Epoch 34/50 | Gen Loss: 1.5776 | Disc Loss: 0.5772\n",
            "Epoch 35/50 | Gen Loss: 1.9266 | Disc Loss: 0.3813\n",
            "Epoch 36/50 | Gen Loss: 1.8177 | Disc Loss: 0.4200\n",
            "Epoch 37/50 | Gen Loss: 1.6250 | Disc Loss: 0.5755\n",
            "Epoch 38/50 | Gen Loss: 1.2849 | Disc Loss: 0.7759\n",
            "Epoch 39/50 | Gen Loss: 1.3696 | Disc Loss: 0.7570\n",
            "Epoch 40/50 | Gen Loss: 1.3387 | Disc Loss: 0.7265\n",
            "Epoch 41/50 | Gen Loss: 1.8096 | Disc Loss: 0.3679\n",
            "Epoch 42/50 | Gen Loss: 1.9675 | Disc Loss: 0.4179\n",
            "Epoch 43/50 | Gen Loss: 2.0102 | Disc Loss: 0.3989\n",
            "Epoch 44/50 | Gen Loss: 1.5757 | Disc Loss: 0.5130\n",
            "Epoch 45/50 | Gen Loss: 1.8315 | Disc Loss: 0.4062\n",
            "Epoch 46/50 | Gen Loss: 2.2103 | Disc Loss: 0.3682\n",
            "Epoch 47/50 | Gen Loss: 2.1598 | Disc Loss: 0.3037\n",
            "Epoch 48/50 | Gen Loss: 2.0419 | Disc Loss: 0.4159\n",
            "Epoch 49/50 | Gen Loss: 1.9786 | Disc Loss: 0.3771\n",
            "Epoch 50/50 | Gen Loss: 1.7792 | Disc Loss: 0.4835\n"
          ]
        }
      ],
      "source": [
        "def train(dataset, epochs=100):\n",
        "    for epoch in range(epochs):\n",
        "        for image_batch in dataset:\n",
        "            gen_loss, disc_loss = train_step(image_batch)\n",
        "        print(f\"Epoch {epoch+1}/{epochs} | Gen Loss: {gen_loss.numpy():.4f} | Disc Loss: {disc_loss.numpy():.4f}\")\n",
        "    generator.save(\"mnist_gan_generator.keras\")  # Use .keras instead of .h5\n",
        "\n",
        "# 4. Actually train the GAN!\n",
        "train(train_dataset, epochs=50)\n",
        "\n",
        "# 5. Load the trained model (for Gradio)\n",
        "generator = tf.keras.models.load_model(\"mnist_gan_generator.keras\")\n"
      ]
    },
    {
      "cell_type": "code",
      "execution_count": 10,
      "metadata": {
        "id": "-JMBxUtdIDNp"
      },
      "outputs": [],
      "source": [
        "import gradio as gr\n"
      ]
    },
    {
      "cell_type": "code",
      "execution_count": 11,
      "metadata": {
        "id": "iFHZd5JDIr6p"
      },
      "outputs": [],
      "source": [
        "\n",
        "# Generate Image from Noise\n",
        "\n",
        "generator = tf.keras.models.load_model(\"/content/mnist_gan_generator.keras\")\n",
        "\n",
        "def generate_image(seed):\n",
        "    noise = tf.random.normal([1, 100], seed=seed)\n",
        "    generated_image = generator(noise, training=False).numpy().reshape(28, 28)\n",
        "    generated_image = (generated_image + 1) / 2.0  # Rescale to [0, 1]\n",
        "    return generated_image\n"
      ]
    },
    {
      "cell_type": "code",
      "execution_count": 12,
      "metadata": {
        "id": "zycSQg4tIzCQ"
      },
      "outputs": [],
      "source": [
        "interface = gr.Interface(\n",
        "    fn=generate_image,\n",
        "    inputs=gr.Slider(minimum=0, maximum=10000, step=5, label=\"Random Seed\"),\n",
        "    outputs=gr.Image(height=280, width=280, image_mode='L', label=\"Generated Digit\"),\n",
        "    title=\"GAN Digit Generator\",\n",
        "    description=\"Generate handwritten digits using a trained GAN. Adjust the seed to change the output.\"\n",
        ")"
      ]
    },
    {
      "cell_type": "code",
      "execution_count": null,
      "metadata": {
        "id": "Yhe_ZoKOJBC9"
      },
      "outputs": [],
      "source": []
    },
    {
      "cell_type": "code",
      "execution_count": 13,
      "metadata": {
        "colab": {
          "base_uri": "https://localhost:8080/",
          "height": 650
        },
        "id": "6cecfc08",
        "outputId": "f1942da8-1a15-4c41-e9b6-5cb5ec0689ff"
      },
      "outputs": [
        {
          "output_type": "stream",
          "name": "stdout",
          "text": [
            "It looks like you are running Gradio on a hosted Jupyter notebook, which requires `share=True`. Automatically setting `share=True` (you can turn this off by setting `share=False` in `launch()` explicitly).\n",
            "\n",
            "Colab notebook detected. To show errors in colab notebook, set debug=True in launch()\n",
            "* Running on public URL: https://695d55312723bf8811.gradio.live\n",
            "\n",
            "This share link expires in 1 week. For free permanent hosting and GPU upgrades, run `gradio deploy` from the terminal in the working directory to deploy to Hugging Face Spaces (https://huggingface.co/spaces)\n"
          ]
        },
        {
          "output_type": "display_data",
          "data": {
            "text/plain": [
              "<IPython.core.display.HTML object>"
            ],
            "text/html": [
              "<div><iframe src=\"https://695d55312723bf8811.gradio.live\" width=\"100%\" height=\"500\" allow=\"autoplay; camera; microphone; clipboard-read; clipboard-write;\" frameborder=\"0\" allowfullscreen></iframe></div>"
            ]
          },
          "metadata": {}
        },
        {
          "output_type": "execute_result",
          "data": {
            "text/plain": []
          },
          "metadata": {},
          "execution_count": 13
        }
      ],
      "source": [
        "interface.launch(debug=False)"
      ]
    },
    {
      "cell_type": "code",
      "execution_count": null,
      "metadata": {
        "id": "UPYrYxtOOEDY"
      },
      "outputs": [],
      "source": []
    }
  ],
  "metadata": {
    "colab": {
      "provenance": []
    },
    "kernelspec": {
      "display_name": "Python 3",
      "name": "python3"
    },
    "language_info": {
      "name": "python"
    }
  },
  "nbformat": 4,
  "nbformat_minor": 0
}